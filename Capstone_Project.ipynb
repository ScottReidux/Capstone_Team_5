{
  "nbformat": 4,
  "nbformat_minor": 0,
  "metadata": {
    "colab": {
      "provenance": [],
      "machine_shape": "hm",
      "gpuType": "L4",
      "authorship_tag": "ABX9TyPyxcTsth8CMnJEhIgiW3Jh",
      "include_colab_link": true
    },
    "kernelspec": {
      "name": "python3",
      "display_name": "Python 3"
    },
    "language_info": {
      "name": "python"
    },
    "accelerator": "GPU"
  },
  "cells": [
    {
      "cell_type": "markdown",
      "metadata": {
        "id": "view-in-github",
        "colab_type": "text"
      },
      "source": [
        "<a href=\"https://colab.research.google.com/github/ScottReidux/Capstone_Team_5/blob/main/Capstone_Project.ipynb\" target=\"_parent\"><img src=\"https://colab.research.google.com/assets/colab-badge.svg\" alt=\"Open In Colab\"/></a>"
      ]
    },
    {
      "cell_type": "markdown",
      "source": [
        "##Data Loading"
      ],
      "metadata": {
        "id": "iTVrqk6sSqih"
      }
    },
    {
      "cell_type": "code",
      "execution_count": 1,
      "metadata": {
        "colab": {
          "base_uri": "https://localhost:8080/"
        },
        "id": "kOciK7mHODb8",
        "outputId": "2ee5a2c1-fc3d-430a-a7c9-99313895605e"
      },
      "outputs": [
        {
          "output_type": "stream",
          "name": "stdout",
          "text": [
            "Mounted at /content/drive\n"
          ]
        }
      ],
      "source": [
        "# Access the dataset\n",
        "from google.colab import drive\n",
        "drive.mount('/content/drive')"
      ]
    },
    {
      "cell_type": "code",
      "source": [
        "# Import pandas\n",
        "import pandas as pd\n",
        "\n",
        "# Load the dataset\n",
        "file_path = '/content/drive/MyDrive/grants.csv'\n",
        "grants_df = pd.read_csv(file_path)\n",
        "\n",
        "# Display the first few rows\n",
        "print(\"First few rows of the dataset:\")\n",
        "grants_df.head()"
      ],
      "metadata": {
        "colab": {
          "base_uri": "https://localhost:8080/",
          "height": 446
        },
        "id": "dzkFaxKuOpag",
        "outputId": "2179e120-78b1-4f2d-adcf-412b346c80ed"
      },
      "execution_count": 3,
      "outputs": [
        {
          "output_type": "stream",
          "name": "stdout",
          "text": [
            "First few rows of the dataset:\n"
          ]
        },
        {
          "output_type": "execute_result",
          "data": {
            "text/plain": [
              "   Unnamed: 0  opportunity_id  \\\n",
              "0           0          262148   \n",
              "1           1          262308   \n",
              "2           2          262368   \n",
              "3           3          262390   \n",
              "4           4          131594   \n",
              "\n",
              "                                   opportunity_title  \\\n",
              "0  Establishment of the Edmund S. Muskie Graduate...   \n",
              "1  Health and resiliency of salt marshes in Jamai...   \n",
              "2  Post-Hurricane Sandy submerged marine habitat ...   \n",
              "3  Inventory and Monitoring of Amphibians and Rep...   \n",
              "4              Youth Leadership Program with Algeria   \n",
              "\n",
              "              opportunity_number opportunity_category funding_instrument_type  \\\n",
              "0  SCAPPD-14-AW-161-SCA-08152014        Discretionary   Cooperative Agreement   \n",
              "1               NPS-14-NERO-0119        Discretionary   Cooperative Agreement   \n",
              "2               NPS-14-NERO-0125        Discretionary   Cooperative Agreement   \n",
              "3               NPS-14-NERO-0087        Discretionary   Cooperative Agreement   \n",
              "4              ECA-PE-C-PY-12-09        Discretionary   Cooperative Agreement   \n",
              "\n",
              "  category_of_funding_activity  cfda_numbers eligible_applicants  \\\n",
              "0                        Other        19.040              Others   \n",
              "1                        Other        15.945              Others   \n",
              "2                        Other        15.945              Others   \n",
              "3                        Other        15.945              Others   \n",
              "4                        Other        19.415              Others   \n",
              "\n",
              "      eligible_applicants_type  ...   post_date  close_date last_updated_date  \\\n",
              "0  Non-Government Organization  ...  2014-08-15  2014-09-04        2014-08-20   \n",
              "1  Non-Government Organization  ...  2014-08-18  2014-08-23        2014-08-18   \n",
              "2  Non-Government Organization  ...  2014-08-19  2014-08-24        2014-08-19   \n",
              "3  Non-Government Organization  ...  2014-08-19  2014-08-24        2014-08-19   \n",
              "4  Non-Government Organization  ...  2011-11-21  2012-01-04        2011-11-21   \n",
              "\n",
              "  archive_date award_ceiling award_floor  estimated_total_program_funding  \\\n",
              "0   2014-10-04      600000.0    400000.0                         600000.0   \n",
              "1   2014-08-24      275897.0    275897.0                         275897.0   \n",
              "2   2014-08-25      480000.0    480000.0                         480000.0   \n",
              "3   2014-08-25      255577.0    255577.0                         255577.0   \n",
              "4   2012-01-05      250000.0         NaN                         250000.0   \n",
              "\n",
              "   expected_number_of_awards  cost_sharing_or_matching_requirement  \\\n",
              "0                        1.0                                 False   \n",
              "1                        1.0                                 False   \n",
              "2                        1.0                                 False   \n",
              "3                        1.0                                 False   \n",
              "4                        1.0                                  True   \n",
              "\n",
              "                     additional_information_url  \n",
              "0                                           NaN  \n",
              "1                                           NaN  \n",
              "2                                           NaN  \n",
              "3                                           NaN  \n",
              "4  http://exchanges.state.gov/grants/open2.html  \n",
              "\n",
              "[5 rows x 22 columns]"
            ],
            "text/html": [
              "\n",
              "  <div id=\"df-a1a5ba91-41f8-4d12-b4df-c0297b56c154\" class=\"colab-df-container\">\n",
              "    <div>\n",
              "<style scoped>\n",
              "    .dataframe tbody tr th:only-of-type {\n",
              "        vertical-align: middle;\n",
              "    }\n",
              "\n",
              "    .dataframe tbody tr th {\n",
              "        vertical-align: top;\n",
              "    }\n",
              "\n",
              "    .dataframe thead th {\n",
              "        text-align: right;\n",
              "    }\n",
              "</style>\n",
              "<table border=\"1\" class=\"dataframe\">\n",
              "  <thead>\n",
              "    <tr style=\"text-align: right;\">\n",
              "      <th></th>\n",
              "      <th>Unnamed: 0</th>\n",
              "      <th>opportunity_id</th>\n",
              "      <th>opportunity_title</th>\n",
              "      <th>opportunity_number</th>\n",
              "      <th>opportunity_category</th>\n",
              "      <th>funding_instrument_type</th>\n",
              "      <th>category_of_funding_activity</th>\n",
              "      <th>cfda_numbers</th>\n",
              "      <th>eligible_applicants</th>\n",
              "      <th>eligible_applicants_type</th>\n",
              "      <th>...</th>\n",
              "      <th>post_date</th>\n",
              "      <th>close_date</th>\n",
              "      <th>last_updated_date</th>\n",
              "      <th>archive_date</th>\n",
              "      <th>award_ceiling</th>\n",
              "      <th>award_floor</th>\n",
              "      <th>estimated_total_program_funding</th>\n",
              "      <th>expected_number_of_awards</th>\n",
              "      <th>cost_sharing_or_matching_requirement</th>\n",
              "      <th>additional_information_url</th>\n",
              "    </tr>\n",
              "  </thead>\n",
              "  <tbody>\n",
              "    <tr>\n",
              "      <th>0</th>\n",
              "      <td>0</td>\n",
              "      <td>262148</td>\n",
              "      <td>Establishment of the Edmund S. Muskie Graduate...</td>\n",
              "      <td>SCAPPD-14-AW-161-SCA-08152014</td>\n",
              "      <td>Discretionary</td>\n",
              "      <td>Cooperative Agreement</td>\n",
              "      <td>Other</td>\n",
              "      <td>19.040</td>\n",
              "      <td>Others</td>\n",
              "      <td>Non-Government Organization</td>\n",
              "      <td>...</td>\n",
              "      <td>2014-08-15</td>\n",
              "      <td>2014-09-04</td>\n",
              "      <td>2014-08-20</td>\n",
              "      <td>2014-10-04</td>\n",
              "      <td>600000.0</td>\n",
              "      <td>400000.0</td>\n",
              "      <td>600000.0</td>\n",
              "      <td>1.0</td>\n",
              "      <td>False</td>\n",
              "      <td>NaN</td>\n",
              "    </tr>\n",
              "    <tr>\n",
              "      <th>1</th>\n",
              "      <td>1</td>\n",
              "      <td>262308</td>\n",
              "      <td>Health and resiliency of salt marshes in Jamai...</td>\n",
              "      <td>NPS-14-NERO-0119</td>\n",
              "      <td>Discretionary</td>\n",
              "      <td>Cooperative Agreement</td>\n",
              "      <td>Other</td>\n",
              "      <td>15.945</td>\n",
              "      <td>Others</td>\n",
              "      <td>Non-Government Organization</td>\n",
              "      <td>...</td>\n",
              "      <td>2014-08-18</td>\n",
              "      <td>2014-08-23</td>\n",
              "      <td>2014-08-18</td>\n",
              "      <td>2014-08-24</td>\n",
              "      <td>275897.0</td>\n",
              "      <td>275897.0</td>\n",
              "      <td>275897.0</td>\n",
              "      <td>1.0</td>\n",
              "      <td>False</td>\n",
              "      <td>NaN</td>\n",
              "    </tr>\n",
              "    <tr>\n",
              "      <th>2</th>\n",
              "      <td>2</td>\n",
              "      <td>262368</td>\n",
              "      <td>Post-Hurricane Sandy submerged marine habitat ...</td>\n",
              "      <td>NPS-14-NERO-0125</td>\n",
              "      <td>Discretionary</td>\n",
              "      <td>Cooperative Agreement</td>\n",
              "      <td>Other</td>\n",
              "      <td>15.945</td>\n",
              "      <td>Others</td>\n",
              "      <td>Non-Government Organization</td>\n",
              "      <td>...</td>\n",
              "      <td>2014-08-19</td>\n",
              "      <td>2014-08-24</td>\n",
              "      <td>2014-08-19</td>\n",
              "      <td>2014-08-25</td>\n",
              "      <td>480000.0</td>\n",
              "      <td>480000.0</td>\n",
              "      <td>480000.0</td>\n",
              "      <td>1.0</td>\n",
              "      <td>False</td>\n",
              "      <td>NaN</td>\n",
              "    </tr>\n",
              "    <tr>\n",
              "      <th>3</th>\n",
              "      <td>3</td>\n",
              "      <td>262390</td>\n",
              "      <td>Inventory and Monitoring of Amphibians and Rep...</td>\n",
              "      <td>NPS-14-NERO-0087</td>\n",
              "      <td>Discretionary</td>\n",
              "      <td>Cooperative Agreement</td>\n",
              "      <td>Other</td>\n",
              "      <td>15.945</td>\n",
              "      <td>Others</td>\n",
              "      <td>Non-Government Organization</td>\n",
              "      <td>...</td>\n",
              "      <td>2014-08-19</td>\n",
              "      <td>2014-08-24</td>\n",
              "      <td>2014-08-19</td>\n",
              "      <td>2014-08-25</td>\n",
              "      <td>255577.0</td>\n",
              "      <td>255577.0</td>\n",
              "      <td>255577.0</td>\n",
              "      <td>1.0</td>\n",
              "      <td>False</td>\n",
              "      <td>NaN</td>\n",
              "    </tr>\n",
              "    <tr>\n",
              "      <th>4</th>\n",
              "      <td>4</td>\n",
              "      <td>131594</td>\n",
              "      <td>Youth Leadership Program with Algeria</td>\n",
              "      <td>ECA-PE-C-PY-12-09</td>\n",
              "      <td>Discretionary</td>\n",
              "      <td>Cooperative Agreement</td>\n",
              "      <td>Other</td>\n",
              "      <td>19.415</td>\n",
              "      <td>Others</td>\n",
              "      <td>Non-Government Organization</td>\n",
              "      <td>...</td>\n",
              "      <td>2011-11-21</td>\n",
              "      <td>2012-01-04</td>\n",
              "      <td>2011-11-21</td>\n",
              "      <td>2012-01-05</td>\n",
              "      <td>250000.0</td>\n",
              "      <td>NaN</td>\n",
              "      <td>250000.0</td>\n",
              "      <td>1.0</td>\n",
              "      <td>True</td>\n",
              "      <td>http://exchanges.state.gov/grants/open2.html</td>\n",
              "    </tr>\n",
              "  </tbody>\n",
              "</table>\n",
              "<p>5 rows × 22 columns</p>\n",
              "</div>\n",
              "    <div class=\"colab-df-buttons\">\n",
              "\n",
              "  <div class=\"colab-df-container\">\n",
              "    <button class=\"colab-df-convert\" onclick=\"convertToInteractive('df-a1a5ba91-41f8-4d12-b4df-c0297b56c154')\"\n",
              "            title=\"Convert this dataframe to an interactive table.\"\n",
              "            style=\"display:none;\">\n",
              "\n",
              "  <svg xmlns=\"http://www.w3.org/2000/svg\" height=\"24px\" viewBox=\"0 -960 960 960\">\n",
              "    <path d=\"M120-120v-720h720v720H120Zm60-500h600v-160H180v160Zm220 220h160v-160H400v160Zm0 220h160v-160H400v160ZM180-400h160v-160H180v160Zm440 0h160v-160H620v160ZM180-180h160v-160H180v160Zm440 0h160v-160H620v160Z\"/>\n",
              "  </svg>\n",
              "    </button>\n",
              "\n",
              "  <style>\n",
              "    .colab-df-container {\n",
              "      display:flex;\n",
              "      gap: 12px;\n",
              "    }\n",
              "\n",
              "    .colab-df-convert {\n",
              "      background-color: #E8F0FE;\n",
              "      border: none;\n",
              "      border-radius: 50%;\n",
              "      cursor: pointer;\n",
              "      display: none;\n",
              "      fill: #1967D2;\n",
              "      height: 32px;\n",
              "      padding: 0 0 0 0;\n",
              "      width: 32px;\n",
              "    }\n",
              "\n",
              "    .colab-df-convert:hover {\n",
              "      background-color: #E2EBFA;\n",
              "      box-shadow: 0px 1px 2px rgba(60, 64, 67, 0.3), 0px 1px 3px 1px rgba(60, 64, 67, 0.15);\n",
              "      fill: #174EA6;\n",
              "    }\n",
              "\n",
              "    .colab-df-buttons div {\n",
              "      margin-bottom: 4px;\n",
              "    }\n",
              "\n",
              "    [theme=dark] .colab-df-convert {\n",
              "      background-color: #3B4455;\n",
              "      fill: #D2E3FC;\n",
              "    }\n",
              "\n",
              "    [theme=dark] .colab-df-convert:hover {\n",
              "      background-color: #434B5C;\n",
              "      box-shadow: 0px 1px 3px 1px rgba(0, 0, 0, 0.15);\n",
              "      filter: drop-shadow(0px 1px 2px rgba(0, 0, 0, 0.3));\n",
              "      fill: #FFFFFF;\n",
              "    }\n",
              "  </style>\n",
              "\n",
              "    <script>\n",
              "      const buttonEl =\n",
              "        document.querySelector('#df-a1a5ba91-41f8-4d12-b4df-c0297b56c154 button.colab-df-convert');\n",
              "      buttonEl.style.display =\n",
              "        google.colab.kernel.accessAllowed ? 'block' : 'none';\n",
              "\n",
              "      async function convertToInteractive(key) {\n",
              "        const element = document.querySelector('#df-a1a5ba91-41f8-4d12-b4df-c0297b56c154');\n",
              "        const dataTable =\n",
              "          await google.colab.kernel.invokeFunction('convertToInteractive',\n",
              "                                                    [key], {});\n",
              "        if (!dataTable) return;\n",
              "\n",
              "        const docLinkHtml = 'Like what you see? Visit the ' +\n",
              "          '<a target=\"_blank\" href=https://colab.research.google.com/notebooks/data_table.ipynb>data table notebook</a>'\n",
              "          + ' to learn more about interactive tables.';\n",
              "        element.innerHTML = '';\n",
              "        dataTable['output_type'] = 'display_data';\n",
              "        await google.colab.output.renderOutput(dataTable, element);\n",
              "        const docLink = document.createElement('div');\n",
              "        docLink.innerHTML = docLinkHtml;\n",
              "        element.appendChild(docLink);\n",
              "      }\n",
              "    </script>\n",
              "  </div>\n",
              "\n",
              "\n",
              "<div id=\"df-adc64c56-3493-4d55-8b28-f52f23764b25\">\n",
              "  <button class=\"colab-df-quickchart\" onclick=\"quickchart('df-adc64c56-3493-4d55-8b28-f52f23764b25')\"\n",
              "            title=\"Suggest charts\"\n",
              "            style=\"display:none;\">\n",
              "\n",
              "<svg xmlns=\"http://www.w3.org/2000/svg\" height=\"24px\"viewBox=\"0 0 24 24\"\n",
              "     width=\"24px\">\n",
              "    <g>\n",
              "        <path d=\"M19 3H5c-1.1 0-2 .9-2 2v14c0 1.1.9 2 2 2h14c1.1 0 2-.9 2-2V5c0-1.1-.9-2-2-2zM9 17H7v-7h2v7zm4 0h-2V7h2v10zm4 0h-2v-4h2v4z\"/>\n",
              "    </g>\n",
              "</svg>\n",
              "  </button>\n",
              "\n",
              "<style>\n",
              "  .colab-df-quickchart {\n",
              "      --bg-color: #E8F0FE;\n",
              "      --fill-color: #1967D2;\n",
              "      --hover-bg-color: #E2EBFA;\n",
              "      --hover-fill-color: #174EA6;\n",
              "      --disabled-fill-color: #AAA;\n",
              "      --disabled-bg-color: #DDD;\n",
              "  }\n",
              "\n",
              "  [theme=dark] .colab-df-quickchart {\n",
              "      --bg-color: #3B4455;\n",
              "      --fill-color: #D2E3FC;\n",
              "      --hover-bg-color: #434B5C;\n",
              "      --hover-fill-color: #FFFFFF;\n",
              "      --disabled-bg-color: #3B4455;\n",
              "      --disabled-fill-color: #666;\n",
              "  }\n",
              "\n",
              "  .colab-df-quickchart {\n",
              "    background-color: var(--bg-color);\n",
              "    border: none;\n",
              "    border-radius: 50%;\n",
              "    cursor: pointer;\n",
              "    display: none;\n",
              "    fill: var(--fill-color);\n",
              "    height: 32px;\n",
              "    padding: 0;\n",
              "    width: 32px;\n",
              "  }\n",
              "\n",
              "  .colab-df-quickchart:hover {\n",
              "    background-color: var(--hover-bg-color);\n",
              "    box-shadow: 0 1px 2px rgba(60, 64, 67, 0.3), 0 1px 3px 1px rgba(60, 64, 67, 0.15);\n",
              "    fill: var(--button-hover-fill-color);\n",
              "  }\n",
              "\n",
              "  .colab-df-quickchart-complete:disabled,\n",
              "  .colab-df-quickchart-complete:disabled:hover {\n",
              "    background-color: var(--disabled-bg-color);\n",
              "    fill: var(--disabled-fill-color);\n",
              "    box-shadow: none;\n",
              "  }\n",
              "\n",
              "  .colab-df-spinner {\n",
              "    border: 2px solid var(--fill-color);\n",
              "    border-color: transparent;\n",
              "    border-bottom-color: var(--fill-color);\n",
              "    animation:\n",
              "      spin 1s steps(1) infinite;\n",
              "  }\n",
              "\n",
              "  @keyframes spin {\n",
              "    0% {\n",
              "      border-color: transparent;\n",
              "      border-bottom-color: var(--fill-color);\n",
              "      border-left-color: var(--fill-color);\n",
              "    }\n",
              "    20% {\n",
              "      border-color: transparent;\n",
              "      border-left-color: var(--fill-color);\n",
              "      border-top-color: var(--fill-color);\n",
              "    }\n",
              "    30% {\n",
              "      border-color: transparent;\n",
              "      border-left-color: var(--fill-color);\n",
              "      border-top-color: var(--fill-color);\n",
              "      border-right-color: var(--fill-color);\n",
              "    }\n",
              "    40% {\n",
              "      border-color: transparent;\n",
              "      border-right-color: var(--fill-color);\n",
              "      border-top-color: var(--fill-color);\n",
              "    }\n",
              "    60% {\n",
              "      border-color: transparent;\n",
              "      border-right-color: var(--fill-color);\n",
              "    }\n",
              "    80% {\n",
              "      border-color: transparent;\n",
              "      border-right-color: var(--fill-color);\n",
              "      border-bottom-color: var(--fill-color);\n",
              "    }\n",
              "    90% {\n",
              "      border-color: transparent;\n",
              "      border-bottom-color: var(--fill-color);\n",
              "    }\n",
              "  }\n",
              "</style>\n",
              "\n",
              "  <script>\n",
              "    async function quickchart(key) {\n",
              "      const quickchartButtonEl =\n",
              "        document.querySelector('#' + key + ' button');\n",
              "      quickchartButtonEl.disabled = true;  // To prevent multiple clicks.\n",
              "      quickchartButtonEl.classList.add('colab-df-spinner');\n",
              "      try {\n",
              "        const charts = await google.colab.kernel.invokeFunction(\n",
              "            'suggestCharts', [key], {});\n",
              "      } catch (error) {\n",
              "        console.error('Error during call to suggestCharts:', error);\n",
              "      }\n",
              "      quickchartButtonEl.classList.remove('colab-df-spinner');\n",
              "      quickchartButtonEl.classList.add('colab-df-quickchart-complete');\n",
              "    }\n",
              "    (() => {\n",
              "      let quickchartButtonEl =\n",
              "        document.querySelector('#df-adc64c56-3493-4d55-8b28-f52f23764b25 button');\n",
              "      quickchartButtonEl.style.display =\n",
              "        google.colab.kernel.accessAllowed ? 'block' : 'none';\n",
              "    })();\n",
              "  </script>\n",
              "</div>\n",
              "\n",
              "    </div>\n",
              "  </div>\n"
            ],
            "application/vnd.google.colaboratory.intrinsic+json": {
              "type": "dataframe",
              "variable_name": "grants_df"
            }
          },
          "metadata": {},
          "execution_count": 3
        }
      ]
    },
    {
      "cell_type": "markdown",
      "source": [
        "##Initial Data Exploration"
      ],
      "metadata": {
        "id": "xHp09mbyS98p"
      }
    },
    {
      "cell_type": "code",
      "source": [
        "# Display basic information about the dataset\n",
        "print(\"Dataset Information:\")\n",
        "grants_df.info()\n",
        "\n",
        "# Check for missing values and summary statistics\n",
        "print(\"\\nSummary Statistics:\")\n",
        "grants_df.describe()\n",
        "\n",
        "print(\"\\nMissing Values Count:\")\n",
        "print(grants_df.isnull().sum())"
      ],
      "metadata": {
        "colab": {
          "base_uri": "https://localhost:8080/"
        },
        "id": "NFXnKcxjPFCy",
        "outputId": "67fcf5a1-aea3-4bb1-e37f-9f49ddbe849d"
      },
      "execution_count": 4,
      "outputs": [
        {
          "output_type": "stream",
          "name": "stdout",
          "text": [
            "Dataset Information:\n",
            "<class 'pandas.core.frame.DataFrame'>\n",
            "RangeIndex: 75640 entries, 0 to 75639\n",
            "Data columns (total 22 columns):\n",
            " #   Column                                Non-Null Count  Dtype  \n",
            "---  ------                                --------------  -----  \n",
            " 0   Unnamed: 0                            75640 non-null  int64  \n",
            " 1   opportunity_id                        75640 non-null  int64  \n",
            " 2   opportunity_title                     75640 non-null  object \n",
            " 3   opportunity_number                    75640 non-null  object \n",
            " 4   opportunity_category                  75640 non-null  object \n",
            " 5   funding_instrument_type               75640 non-null  object \n",
            " 6   category_of_funding_activity          75640 non-null  object \n",
            " 7   cfda_numbers                          74815 non-null  float64\n",
            " 8   eligible_applicants                   75640 non-null  object \n",
            " 9   eligible_applicants_type              75640 non-null  object \n",
            " 10  agency_code                           75597 non-null  object \n",
            " 11  agency_name                           75596 non-null  object \n",
            " 12  post_date                             75640 non-null  object \n",
            " 13  close_date                            71628 non-null  object \n",
            " 14  last_updated_date                     75640 non-null  object \n",
            " 15  archive_date                          68585 non-null  object \n",
            " 16  award_ceiling                         61819 non-null  float64\n",
            " 17  award_floor                           53580 non-null  float64\n",
            " 18  estimated_total_program_funding       53446 non-null  float64\n",
            " 19  expected_number_of_awards             53865 non-null  float64\n",
            " 20  cost_sharing_or_matching_requirement  75640 non-null  bool   \n",
            " 21  additional_information_url            49975 non-null  object \n",
            "dtypes: bool(1), float64(5), int64(2), object(14)\n",
            "memory usage: 12.2+ MB\n",
            "\n",
            "Summary Statistics:\n",
            "\n",
            "Missing Values Count:\n",
            "Unnamed: 0                                  0\n",
            "opportunity_id                              0\n",
            "opportunity_title                           0\n",
            "opportunity_number                          0\n",
            "opportunity_category                        0\n",
            "funding_instrument_type                     0\n",
            "category_of_funding_activity                0\n",
            "cfda_numbers                              825\n",
            "eligible_applicants                         0\n",
            "eligible_applicants_type                    0\n",
            "agency_code                                43\n",
            "agency_name                                44\n",
            "post_date                                   0\n",
            "close_date                               4012\n",
            "last_updated_date                           0\n",
            "archive_date                             7055\n",
            "award_ceiling                           13821\n",
            "award_floor                             22060\n",
            "estimated_total_program_funding         22194\n",
            "expected_number_of_awards               21775\n",
            "cost_sharing_or_matching_requirement        0\n",
            "additional_information_url              25665\n",
            "dtype: int64\n"
          ]
        }
      ]
    },
    {
      "cell_type": "markdown",
      "source": [
        "##Data Cleaning"
      ],
      "metadata": {
        "id": "YgF522vaTH9m"
      }
    },
    {
      "cell_type": "code",
      "source": [
        "# Drop irrelevant columns\n",
        "grants_df = grants_df.drop(columns=['Unnamed: 0', 'additional_information_url'])\n",
        "print(\"Dropped irrelevant columns.\")"
      ],
      "metadata": {
        "colab": {
          "base_uri": "https://localhost:8080/"
        },
        "id": "anwhlz6MQhnE",
        "outputId": "43c0bc37-a7fd-42c7-c413-7e32d662bef8"
      },
      "execution_count": 5,
      "outputs": [
        {
          "output_type": "stream",
          "name": "stdout",
          "text": [
            "Dropped irrelevant columns.\n"
          ]
        }
      ]
    },
    {
      "cell_type": "code",
      "source": [
        "# Fill categorical columns with \"Unknown\"\n",
        "grants_df['agency_code'] = grants_df['agency_code'].fillna(\"Unknown\")\n",
        "grants_df['agency_name'] = grants_df['agency_name'].fillna(\"Unknown\")\n",
        "grants_df['cfda_numbers'] = grants_df['cfda_numbers'].fillna(\"Unknown\")\n",
        "\n",
        "# Fill numeric columns with median values\n",
        "grants_df['award_ceiling'] = grants_df['award_ceiling'].fillna(grants_df['award_ceiling'].median())\n",
        "grants_df['award_floor'] = grants_df['award_floor'].fillna(grants_df['award_floor'].median())\n",
        "grants_df['estimated_total_program_funding'] = grants_df['estimated_total_program_funding'].fillna(grants_df['estimated_total_program_funding'].median())\n",
        "grants_df['expected_number_of_awards'] = grants_df['expected_number_of_awards'].fillna(grants_df['expected_number_of_awards'].median())\n",
        "\n",
        "print(\"Missing values handled without inplace warnings.\")"
      ],
      "metadata": {
        "colab": {
          "base_uri": "https://localhost:8080/"
        },
        "id": "W8ZA4yhnQ7m1",
        "outputId": "4be49d2c-a82c-484d-d7e8-b45b668b7a2d"
      },
      "execution_count": 7,
      "outputs": [
        {
          "output_type": "stream",
          "name": "stdout",
          "text": [
            "Missing values handled without inplace warnings.\n"
          ]
        }
      ]
    },
    {
      "cell_type": "code",
      "source": [
        "# Convert date columns to datetime format\n",
        "date_columns = ['post_date', 'close_date', 'last_updated_date', 'archive_date']\n",
        "for col in date_columns:\n",
        "    grants_df[col] = pd.to_datetime(grants_df[col], errors='coerce')\n",
        "\n",
        "# Drop rows where essential date fields are missing\n",
        "grants_df = grants_df.dropna(subset=['close_date', 'archive_date'])\n",
        "print(\"Date columns converted and essential missing dates handled.\")"
      ],
      "metadata": {
        "colab": {
          "base_uri": "https://localhost:8080/"
        },
        "id": "lJ9lxcwbRE3n",
        "outputId": "a76c249b-5413-418d-b0fb-4e95fb455332"
      },
      "execution_count": 8,
      "outputs": [
        {
          "output_type": "stream",
          "name": "stdout",
          "text": [
            "Date columns converted and essential missing dates handled.\n"
          ]
        }
      ]
    },
    {
      "cell_type": "markdown",
      "source": [
        "##Basic Exploratory Data Analysis"
      ],
      "metadata": {
        "id": "MQUpvUreTYcm"
      }
    },
    {
      "cell_type": "code",
      "source": [
        "import matplotlib.pyplot as plt\n",
        "\n",
        "# Plot the distribution of funding instrument types\n",
        "plt.figure(figsize=(8,6))\n",
        "grants_df['funding_instrument_type'].value_counts().plot(kind='bar')\n",
        "plt.title('Distribution of Funding Instrument Types')\n",
        "plt.xlabel('Funding Instrument Type')\n",
        "plt.ylabel('Count')\n",
        "plt.show()"
      ],
      "metadata": {
        "colab": {
          "base_uri": "https://localhost:8080/",
          "height": 716
        },
        "id": "exMjZyKRRQBC",
        "outputId": "f9f4526a-710c-47c3-889e-b59466891693"
      },
      "execution_count": 9,
      "outputs": [
        {
          "output_type": "display_data",
          "data": {
            "text/plain": [
              "<Figure size 800x600 with 1 Axes>"
            ],
            "image/png": "[encoded data removed]"
          },
          "metadata": {}
        }
      ]
    },
    {
      "cell_type": "code",
      "source": [
        "import numpy as np\n",
        "import matplotlib.pyplot as plt\n",
        "\n",
        "# Apply log transformation (adding 1 to avoid log(0))\n",
        "plt.figure(figsize=(8,6))\n",
        "np.log1p(grants_df['award_ceiling']).dropna().plot(kind='hist', bins=30, edgecolor='black')\n",
        "plt.title('Distribution of Log-Transformed Award Ceiling Amounts')\n",
        "plt.xlabel('Log(Award Ceiling + 1)')\n",
        "plt.ylabel('Frequency')\n",
        "plt.show()"
      ],
      "metadata": {
        "colab": {
          "base_uri": "https://localhost:8080/",
          "height": 564
        },
        "id": "j6YCjxZoRzYg",
        "outputId": "9a74dcc6-2dcd-4637-b764-8475814a0cbb"
      },
      "execution_count": 11,
      "outputs": [
        {
          "output_type": "display_data",
          "data": {
            "text/plain": [
              "<Figure size 800x600 with 1 Axes>"
            ],
            "image/png": "[encoded data removed]"
          },
          "metadata": {}
        }
      ]
    },
    {
      "cell_type": "markdown",
      "source": [
        "##Save the Cleaned Data"
      ],
      "metadata": {
        "id": "kmYViftVTq8m"
      }
    },
    {
      "cell_type": "code",
      "source": [
        "# Save the cleaned data to Google Drive\n",
        "output_path_drive = '/content/drive/MyDrive/cleaned_grants.csv'\n",
        "grants_df.to_csv(output_path_drive, index=False)\n",
        "print(f\"Cleaned dataset saved to Google Drive at {output_path_drive}\")"
      ],
      "metadata": {
        "colab": {
          "base_uri": "https://localhost:8080/"
        },
        "id": "pIaY-6hTTtyW",
        "outputId": "9995bed0-230c-458f-b97c-126996a8416f"
      },
      "execution_count": 15,
      "outputs": [
        {
          "output_type": "stream",
          "name": "stdout",
          "text": [
            "Cleaned dataset saved to Google Drive at /content/drive/MyDrive/cleaned_grants.csv\n"
          ]
        }
      ]
    }
  ]
}